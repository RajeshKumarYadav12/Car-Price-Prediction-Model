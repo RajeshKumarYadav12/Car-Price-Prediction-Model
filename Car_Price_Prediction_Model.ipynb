{
 "cells": [
  {
   "cell_type": "code",
   "execution_count": null,
   "id": "7491c9c0-b7ea-4baa-9f1e-1b1bc841fc35",
   "metadata": {},
   "outputs": [],
   "source": [
    "import numpy as np\n",
    "import pandas as pd\n",
    "import seaborn as sns\n",
    "import matplotlib.pyplot as plt\n",
    "%matplotlib inline"
   ]
  },
  {
   "cell_type": "code",
   "execution_count": null,
   "id": "037d08e2-b116-4a55-a079-b1f406cc7ad1",
   "metadata": {},
   "outputs": [],
   "source": []
  },
  {
   "cell_type": "code",
   "execution_count": null,
   "id": "2222ee2b-5a3e-46ff-9967-bf405bf350aa",
   "metadata": {},
   "outputs": [],
   "source": []
  },
  {
   "cell_type": "code",
   "execution_count": null,
   "id": "dd25cdc3-91b8-4b47-9e58-700ce7d1c126",
   "metadata": {},
   "outputs": [],
   "source": []
  },
  {
   "cell_type": "code",
   "execution_count": null,
   "id": "1f9daf2d-4b18-4098-ab18-2e78a9ed36ca",
   "metadata": {},
   "outputs": [],
   "source": [
    "data = pd.read_csv(\"C:/Users/yraje/OneDrive/Desktop/ML&AI/car_data.csv\")"
   ]
  },
  {
   "cell_type": "code",
   "execution_count": null,
   "id": "920d6b8c-e011-472e-bcf0-29322b3b31a2",
   "metadata": {},
   "outputs": [],
   "source": [
    "data.head()"
   ]
  },
  {
   "cell_type": "code",
   "execution_count": null,
   "id": "86361073-dc0b-41d7-9968-1cd2b76a9de1",
   "metadata": {},
   "outputs": [],
   "source": [
    "data.shape"
   ]
  },
  {
   "cell_type": "code",
   "execution_count": null,
   "id": "fabb99c2-dda5-4cf4-b362-59085daad38e",
   "metadata": {},
   "outputs": [],
   "source": [
    "print(data['Seller_Type'].unique())\n",
    "print(data['Transmission'].unique())\n",
    "print(data['Owner'].unique())"
   ]
  },
  {
   "cell_type": "code",
   "execution_count": null,
   "id": "99ec4748-7b6a-4f23-aeb6-51d2f7ca5d2a",
   "metadata": {},
   "outputs": [],
   "source": [
    "# check missing or null values\n",
    "data.isna().sum()"
   ]
  },
  {
   "cell_type": "code",
   "execution_count": null,
   "id": "38e5d4a0-bb8d-4f4a-81b9-a4dc487d9fe9",
   "metadata": {},
   "outputs": [],
   "source": [
    "data.describe()"
   ]
  },
  {
   "cell_type": "code",
   "execution_count": null,
   "id": "a435b9dc-a818-4bfb-8762-68691558c11a",
   "metadata": {},
   "outputs": [],
   "source": [
    "data.columns"
   ]
  },
  {
   "cell_type": "code",
   "execution_count": null,
   "id": "159033c7-16de-4308-9793-0ba4e2548ca0",
   "metadata": {},
   "outputs": [],
   "source": [
    "fdata = data[['Year', 'Selling_Price', 'Present_Price', 'Kms_Driven',\n",
    "       'Fuel_Type', 'Seller_Type', 'Transmission', 'Owner']]"
   ]
  },
  {
   "cell_type": "code",
   "execution_count": null,
   "id": "5a19ca66-bda3-4c96-bc14-6565ce84f34e",
   "metadata": {},
   "outputs": [],
   "source": [
    "fdata"
   ]
  },
  {
   "cell_type": "code",
   "execution_count": null,
   "id": "756e3492-d782-4b09-9512-24b32fa2af27",
   "metadata": {},
   "outputs": [],
   "source": [
    "fdata['Current_Year'] = 2024"
   ]
  },
  {
   "cell_type": "code",
   "execution_count": null,
   "id": "0c8722a9-48cd-4a16-ac13-a2485f600eeb",
   "metadata": {},
   "outputs": [],
   "source": [
    "fdata.head()"
   ]
  },
  {
   "cell_type": "code",
   "execution_count": null,
   "id": "c6ed625a-f748-469e-bdc5-4868c4776031",
   "metadata": {},
   "outputs": [],
   "source": [
    "fdata['No_of_Year'] = fdata['Current_Year']-fdata['Year']"
   ]
  },
  {
   "cell_type": "code",
   "execution_count": null,
   "id": "5b3094b5-d09c-45f0-9cb2-fc6959d4671e",
   "metadata": {},
   "outputs": [],
   "source": [
    "fdata"
   ]
  },
  {
   "cell_type": "code",
   "execution_count": null,
   "id": "c1d1da79-da28-4a32-925e-2b070cd96860",
   "metadata": {},
   "outputs": [],
   "source": [
    "fdata.head()"
   ]
  },
  {
   "cell_type": "code",
   "execution_count": null,
   "id": "b645d0a4-551c-4733-90c3-e26858dadcdc",
   "metadata": {},
   "outputs": [],
   "source": [
    "fdata.drop(['Year'],axis=1, inplace = True)\n",
    "fdata.drop(['Current_Year'],axis=1, inplace = True)"
   ]
  },
  {
   "cell_type": "code",
   "execution_count": null,
   "id": "7eed8e20-18b9-4899-9e71-53e991f6007e",
   "metadata": {},
   "outputs": [],
   "source": [
    "fdata"
   ]
  },
  {
   "cell_type": "code",
   "execution_count": null,
   "id": "ae831ab6-ddd3-4cd6-8fe5-a66ffc2dc534",
   "metadata": {},
   "outputs": [],
   "source": [
    "fdata=pd.get_dummies(fdata,drop_first=True)"
   ]
  },
  {
   "cell_type": "code",
   "execution_count": null,
   "id": "e7230652-8aa5-4cb8-ad38-5a8b0b9797f6",
   "metadata": {},
   "outputs": [],
   "source": [
    "data.head()"
   ]
  },
  {
   "cell_type": "code",
   "execution_count": null,
   "id": "16a1c54a-3a15-4966-a089-4c3c40832427",
   "metadata": {},
   "outputs": [],
   "source": [
    "fdata.corr()"
   ]
  },
  {
   "cell_type": "code",
   "execution_count": null,
   "id": "59b66348-2f10-4b28-b2ba-735e44c39239",
   "metadata": {},
   "outputs": [],
   "source": [
    "sns.pairplot(fdata)"
   ]
  },
  {
   "cell_type": "code",
   "execution_count": null,
   "id": "3ba6a366-6aa6-4bfe-b8d1-47aa658ccd7b",
   "metadata": {},
   "outputs": [],
   "source": [
    "# Calculate the correlation matrix\n",
    "corrmat = fdata.corr()\n",
    "\n",
    "# Set up the matplotlib figure\n",
    "plt.figure(figsize=(10, 10))\n",
    "\n",
    "# Create the heatmap\n",
    "heatmap = sns.heatmap(corrmat, annot=False, cmap=\"RdYlGn\", center=0, square=True, linewidths=.5)\n",
    "\n",
    "# Add annotations to each cell\n",
    "for i in range(len(corrmat)):\n",
    "    for j in range(len(corrmat.columns)):\n",
    "        plt.annotate(f'{corrmat.iloc[i, j]:.2f}', (j + 0.5, i + 0.5), ha='center', va='center', color='black', fontsize=10)\n",
    "\n",
    "# Show the plot\n",
    "plt.show()\n"
   ]
  },
  {
   "cell_type": "code",
   "execution_count": null,
   "id": "4bd642ab-d0f1-4429-adf6-d89d3a883f69",
   "metadata": {},
   "outputs": [],
   "source": [
    "fdata.head()"
   ]
  },
  {
   "cell_type": "code",
   "execution_count": null,
   "id": "d6c0259f-bbe8-4ae0-bebb-6aa3d97ce67f",
   "metadata": {},
   "outputs": [],
   "source": [
    "# independent and dependent features\n",
    "X = fdata.iloc[:,1:]\n",
    "y = fdata.iloc[:,0]"
   ]
  },
  {
   "cell_type": "code",
   "execution_count": null,
   "id": "caa4558d-8d05-425e-9774-e97a09b1cf11",
   "metadata": {},
   "outputs": [],
   "source": [
    "y.head()"
   ]
  },
  {
   "cell_type": "code",
   "execution_count": null,
   "id": "02b81337-1948-4632-ae8d-efa616bacde6",
   "metadata": {},
   "outputs": [],
   "source": [
    "import sklearn\n",
    "print(sklearn.__version__)\n"
   ]
  },
  {
   "cell_type": "code",
   "execution_count": null,
   "id": "13495eda-eddc-45e8-ac9c-ba290ea5560f",
   "metadata": {},
   "outputs": [],
   "source": [
    "# Features importance\n",
    "from sklearn.ensemble import ExtraTreesRegressor\n",
    "\n",
    "# Assuming X and y are your feature matrix and target variable\n",
    "model = ExtraTreesRegressor()\n",
    "model.fit(X, y)\n"
   ]
  },
  {
   "cell_type": "code",
   "execution_count": null,
   "id": "cea194c7-54a6-4148-a23a-d7043d12d434",
   "metadata": {},
   "outputs": [],
   "source": [
    "print(model.feature_importances_)"
   ]
  },
  {
   "cell_type": "code",
   "execution_count": null,
   "id": "adeb774d-cbeb-4201-bb20-61658b18908d",
   "metadata": {},
   "outputs": [],
   "source": [
    "#plot graph of features importances for better visualization\n",
    "feat_impotances = pd.Series(model.feature_importances_, index=X.columns)\n",
    "feat_impotances.nlargest(5).plot(kind='barh')\n",
    "plt.show()\n"
   ]
  },
  {
   "cell_type": "code",
   "execution_count": null,
   "id": "3b765d0a-ca7e-4b5e-b5c0-fdf79587ea3f",
   "metadata": {},
   "outputs": [],
   "source": [
    "from sklearn.model_selection import train_test_split\n",
    "X_train, X_test, y_train, y_test = train_test_split(X,y, test_size=0.2)"
   ]
  },
  {
   "cell_type": "code",
   "execution_count": null,
   "id": "9f5cb7cf-10d5-4768-94d4-375ad4e7fea2",
   "metadata": {},
   "outputs": [],
   "source": [
    "X_train.shape"
   ]
  },
  {
   "cell_type": "code",
   "execution_count": null,
   "id": "e6875114-d383-4df7-8e26-00467d625a1e",
   "metadata": {},
   "outputs": [],
   "source": [
    "from sklearn.ensemble import RandomForestRegressor\n",
    "rf_random=RandomForestRegressor()"
   ]
  },
  {
   "cell_type": "code",
   "execution_count": null,
   "id": "cc694f89-a0a5-48b4-81d7-54fe4b096396",
   "metadata": {},
   "outputs": [],
   "source": [
    "# HyperParameters\n",
    "n_estimators = [int(x) for x in np.linspace(start = 100, stop = 1200, num = 12)]\n",
    "\n",
    "max_features = ['auto', 'sqrt']\n",
    "\n",
    "max_depth = [int(x) for x in np.linspace(5, 30, num =6)]\n",
    "# max depth\n",
    "# minimum number of samples\n",
    "min_samples_split = [2,5,10,15,100]\n",
    "# minimun nuber of samples required to split a node\n",
    "min_samples_leaf = [1,2,5,10]\n",
    "\n"
   ]
  },
  {
   "cell_type": "code",
   "execution_count": null,
   "id": "6485ec5e-ce92-41a3-8494-03843e79992e",
   "metadata": {},
   "outputs": [],
   "source": [
    "from sklearn.model_selection import RandomizedSearchCV"
   ]
  },
  {
   "cell_type": "code",
   "execution_count": null,
   "id": "0b517aa2-5848-47df-a805-815f3290d38e",
   "metadata": {},
   "outputs": [],
   "source": [
    "# Create the random grid\n",
    "random_grid = {\n",
    "    'n_estimators': n_estimators,\n",
    "    'max_features': max_features,\n",
    "    'max_depth': max_depth,\n",
    "    'min_samples_split': min_samples_split,\n",
    "    'min_samples_leaf': min_samples_leaf\n",
    "}\n",
    "\n",
    "print(random_grid)"
   ]
  },
  {
   "cell_type": "code",
   "execution_count": null,
   "id": "a08d9a00-ab5f-4a2d-9630-2c6662a44db2",
   "metadata": {},
   "outputs": [],
   "source": [
    "# use the random grid to search for the best hypertuning\n",
    "# frist create the base model to tune\n",
    "rf = RandomForestRegressor()"
   ]
  },
  {
   "cell_type": "code",
   "execution_count": null,
   "id": "79e27115-8037-46b4-a404-04a2eefc7efb",
   "metadata": {},
   "outputs": [],
   "source": [
    "rf_random = RandomizedSearchCV(estimator = rf, param_distributions = random_grid, scoring='neg_mean_squared_error',n_iter=10,cv=5,verbose=2,random_state=42, n_jobs=1)"
   ]
  },
  {
   "cell_type": "code",
   "execution_count": null,
   "id": "eb973e78-66de-42e6-9931-19832bda3e47",
   "metadata": {},
   "outputs": [],
   "source": [
    "rf_random.fit(X_train, y_train)"
   ]
  },
  {
   "cell_type": "code",
   "execution_count": null,
   "id": "dfa99f7d-bf3f-47ef-a99d-f283ac0cc0ea",
   "metadata": {},
   "outputs": [],
   "source": [
    "pridictions = rf_random.predict(X_test)"
   ]
  },
  {
   "cell_type": "code",
   "execution_count": null,
   "id": "03116eeb-40f1-4b45-84f1-979f29b04682",
   "metadata": {},
   "outputs": [],
   "source": [
    "pridictions"
   ]
  },
  {
   "cell_type": "code",
   "execution_count": null,
   "id": "720c63ce-da5a-4b4f-b9bb-53671f9f2c3a",
   "metadata": {},
   "outputs": [],
   "source": [
    "sns.distplot(y_test-pridictions)"
   ]
  },
  {
   "cell_type": "code",
   "execution_count": null,
   "id": "ac06bf70-d64f-44ff-bf11-a690edcaf15d",
   "metadata": {},
   "outputs": [],
   "source": [
    "plt.scatter(y_test, pridictions)"
   ]
  },
  {
   "cell_type": "code",
   "execution_count": null,
   "id": "8f239c68-bc68-4d84-93f9-adefec057ca7",
   "metadata": {},
   "outputs": [],
   "source": [
    "import pickle\n",
    "# open a file, where you want to store the data\n",
    "file = open('random_forest_regression_model.pkl','wb')\n",
    "# dump information to the file\n",
    "pickle.dump(rf_random, file)"
   ]
  },
  {
   "cell_type": "code",
   "execution_count": null,
   "id": "8f93014d-a47a-4955-9ed5-3459d4fec8b1",
   "metadata": {},
   "outputs": [],
   "source": []
  }
 ],
 "metadata": {
  "kernelspec": {
   "display_name": "Python 3 (ipykernel)",
   "language": "python",
   "name": "python3"
  },
  "language_info": {
   "codemirror_mode": {
    "name": "ipython",
    "version": 3
   },
   "file_extension": ".py",
   "mimetype": "text/x-python",
   "name": "python",
   "nbconvert_exporter": "python",
   "pygments_lexer": "ipython3",
   "version": "3.12.3"
  }
 },
 "nbformat": 4,
 "nbformat_minor": 5
}
